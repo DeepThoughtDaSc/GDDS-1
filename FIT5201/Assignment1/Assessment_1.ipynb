{
 "cells": [
  {
   "cell_type": "markdown",
   "metadata": {},
   "source": [
    "# FIT5201: Assessment 1\n",
    "## The Elements of Machine Learning\n",
    "\n",
    "### Objectives\n",
    "This assignment consists of three parts (A,B,C) that assess your understanding of model complexity, model selection, uncertainty in prediction with bootstrapping, and probabilistic machine learning. The total marks of this assessment is 100, and will contribute to the 20% of your final score. "
   ]
  },
  {
   "cell_type": "markdown",
   "metadata": {},
   "source": [
    "## Important Note\n",
    "* You can complete your assignment using the codes shared in the unit as a base. However, <font color='red'>**you should make sure the codes you are borrowing are correct and relevant to the question**</font>.\n",
    "\n",
    "* Please follow the structure of this template as much as you can.\n",
    "\n",
    "* You can use the prepopulated codes cells or change them if you prefere. However, please do not change the name of the key variables, functions, and parameters eg `knn`, `num.fold`, `train.data`. It helps us to read and understand your submissiont more efficiently."
   ]
  },
  {
   "cell_type": "markdown",
   "metadata": {},
   "source": [
    "### Part A.  Model Complexity and Model Selection\n",
    "In this part, you study the effect of model complexity on the training and testing errors.  You also demonstrate your programming skills by developing a regression algorithm and a cross-validation technique that will be used to select the models with the most effective complexity.\n",
    "\n",
    "__Background__. A KNN regressor is similar to a KNN classifier (covered in Activity 1.1) in the sence that it finds the K nearest neighbors and estimates the label of the given test point based on the labels of its nearest neighbours. The main difference between KNN regression and KNN classification is that KNN classifier returns the label that has the majority vote in the neighborhood, whilst KNN regressor returns the average of the neighbors’ labels. \n",
    "\n",
    "#### Question 1 [KNN Regressor] \n",
    "Q1-1) Implement the KNN regressor function:\n",
    "                                     `knn(train.data, train.label, test.data, K=3)` \n",
    "which takes the training data and their labels (continuous values), the test set, and the size of the neighborhood (`K`). It should return the regressed values for the test data points. When choosing the neighbors, you can use the Euclidean distance function to measure the distance between a pair of data points. \n",
    "\n",
    "__Hint__: You are allowed to use KNN classifier code from Activity 1 of Module 1.\n",
    "\n",
    "Q1-2) Plot the training and the testing errors versus `1/K` for `K=1,..,20` in one plot, using the Task1A_train.csv and Task1A_test.csv datasets provided for this assignment. Discuss your findings.\n",
    "\n",
    "Q1-3) Report the best value for K in terms of the testing error. Discuss the values of K corresponding to underfitting and overfitting based on your plot in Q1-2. "
   ]
  },
  {
   "cell_type": "markdown",
   "metadata": {},
   "source": [
    "#### Question 2 [K-fold Cross Validation] \n",
    "Q2-1) Implement a K-fold Cross Validation (CV) function for your KNN regressor:  \n",
    "       `cv(train.data, train.label, numFold=10)` \n",
    "which takes the training data and their labels (continuous values), the number of folds, and returns RMSE for different folds of the training data. \n",
    "\n",
    "__Hint__: you are allowed to use bootstrap code from Activity 2 of Module 1.\n",
    "\n",
    "Q2-2) Using the training data, run your K-fold CV where the `numFold` is set to 10. Change the value of `K=1,..,20` and for each K compute the average `10` RMSE values you have got.  Plot the average error numbers versus `1/K` for `K=1,..,20`. Further, add two dashed lines around the average error indicating the average +/- standard deviation of errors. Include the plot in your report. \n",
    "\n",
    "Q2-3) Report the values of K that results the minimum average RMSE and minimum standard deviation of RMSE based on your cross validation plot in Q2-2.  Discuss your findings."
   ]
  },
  {
   "cell_type": "markdown",
   "metadata": {},
   "source": [
    "# Initial EDA"
   ]
  },
  {
   "cell_type": "code",
   "execution_count": 1,
   "metadata": {},
   "outputs": [
    {
     "name": "stdout",
     "output_type": "stream",
     "text": [
      "'data.frame':\t42 obs. of  2 variables:\n",
      " $ x1: num  1960 1960 1961 1962 1962 ...\n",
      " $ y : num  0.71 0.85 0.61 0.92 0.72 0.92 0.83 1 0.92 1.24 ...\n"
     ]
    }
   ],
   "source": [
    "#Load in Data for initial EDA\n",
    "# Load the data\n",
    "train.data <- read.csv(\"../Task1A_train.csv\")\n",
    "test.data <- read.csv(\"../Task1A_test.csv\")\n",
    "\n",
    "str(train.data)"
   ]
  },
  {
   "cell_type": "code",
   "execution_count": 2,
   "metadata": {},
   "outputs": [
    {
     "name": "stdout",
     "output_type": "stream",
     "text": [
      "'data.frame':\t42 obs. of  2 variables:\n",
      " $ x1: num  1960 1961 1961 1962 1962 ...\n",
      " $ y : num  0.63 0.44 0.69 0.55 0.77 0.6 0.8 0.77 1 1 ...\n"
     ]
    }
   ],
   "source": [
    "str(test.data)"
   ]
  },
  {
   "cell_type": "markdown",
   "metadata": {},
   "source": [
    "There is 2 columns, the dependent variable y and the single independent variable x1. \n",
    "With a single independent variable the euclidean distance between points will be linear. since eucldist^2 = (x1 - x2)^2 -> eucldist = |x1-x2|\n",
    "\n"
   ]
  },
  {
   "cell_type": "code",
   "execution_count": 3,
   "metadata": {},
   "outputs": [
    {
     "data": {
      "text/html": [
       "<ol class=list-inline>\n",
       "\t<li>42</li>\n",
       "\t<li>2</li>\n",
       "</ol>\n"
      ],
      "text/latex": [
       "\\begin{enumerate*}\n",
       "\\item 42\n",
       "\\item 2\n",
       "\\end{enumerate*}\n"
      ],
      "text/markdown": [
       "1. 42\n",
       "2. 2\n",
       "\n",
       "\n"
      ],
      "text/plain": [
       "[1] 42  2"
      ]
     },
     "metadata": {},
     "output_type": "display_data"
    }
   ],
   "source": [
    "dim(train.data)"
   ]
  },
  {
   "cell_type": "code",
   "execution_count": 4,
   "metadata": {},
   "outputs": [
    {
     "data": {
      "text/html": [
       "<ol class=list-inline>\n",
       "\t<li>42</li>\n",
       "\t<li>2</li>\n",
       "</ol>\n"
      ],
      "text/latex": [
       "\\begin{enumerate*}\n",
       "\\item 42\n",
       "\\item 2\n",
       "\\end{enumerate*}\n"
      ],
      "text/markdown": [
       "1. 42\n",
       "2. 2\n",
       "\n",
       "\n"
      ],
      "text/plain": [
       "[1] 42  2"
      ]
     },
     "metadata": {},
     "output_type": "display_data"
    }
   ],
   "source": [
    "dim(test.data)"
   ]
  },
  {
   "cell_type": "markdown",
   "metadata": {},
   "source": [
    "42 rows in both the training and test set."
   ]
  },
  {
   "cell_type": "markdown",
   "metadata": {},
   "source": [
    "## Question 1 [KNN Regressor] "
   ]
  },
  {
   "cell_type": "markdown",
   "metadata": {},
   "source": [
    "We load the R libraries required."
   ]
  },
  {
   "cell_type": "code",
   "execution_count": 5,
   "metadata": {},
   "outputs": [
    {
     "name": "stderr",
     "output_type": "stream",
     "text": [
      "Warning message:\n",
      "\"package 'ggplot2' was built under R version 3.3.3\"Warning message:\n",
      "\"package 'reshape2' was built under R version 3.3.3\""
     ]
    }
   ],
   "source": [
    "library(ggplot2) # For plotting\n",
    "library(reshape2) # For data wrangling\n",
    "#..."
   ]
  },
  {
   "cell_type": "markdown",
   "metadata": {},
   "source": [
    "### Q1-1 Implement the KNN regressor"
   ]
  },
  {
   "cell_type": "markdown",
   "metadata": {},
   "source": [
    "We define a function to calculate the mean value of the K nearest neighbours based on a distance matrix. And a function to calculate the root mean square error (RMSE)."
   ]
  },
  {
   "cell_type": "code",
   "execution_count": 6,
   "metadata": {},
   "outputs": [],
   "source": [
    "knn <- function(train.data, train.label, test.data, K=3){\n",
    "\n",
    "    # Pre-allocate vector and matrices if needed (optional)\n",
    "    #if(is.vector(train.data)){\n",
    "    #    train.data <- matrix(train.data)\n",
    "    #    train.label <- matrix(train.label)\n",
    "    #    test.data <- matrix(test.data)\n",
    "    #}\n",
    "    #all.data <- rbind(test.data,train.data)\n",
    "    mean.value <-vector()\n",
    "    \n",
    "    # eg. for the best performance, find the distance between any pair of test and train set...\n",
    "     ## calculate distances between samples\n",
    "    \n",
    "    #if a train is a vector, vector specific operations are used\n",
    "    if(is.vector(train.data)){\n",
    "        train.len = length(train.data)\n",
    "        test.len = length(test.data)\n",
    "        all.data <- append(test.data,train.data)\n",
    "    \n",
    "    }\n",
    "    else{\n",
    "        train.len = dim(train.data)[1]\n",
    "        test.len = dim(test.data)[1]\n",
    "        all.data <- rbind(test.data,train.data)\n",
    "    }\n",
    "\n",
    "    #return(t(all.data))\n",
    "    dist <- as.matrix(dist(all.data),method = 'euclidean')[1:test.len,((test.len+1):(test.len+train.len))]\n",
    "    colnames(dist)<- 1:train.len #Rename colummns to be the index of the training set\n",
    "    \n",
    "    # For each test sample do:\n",
    "    for (i in 1:test.len){\n",
    "        \n",
    "        # ...find its K nearest neighbours from training samples...\n",
    "        \n",
    "        nn <- as.data.frame(sort(dist[i,], index.return = TRUE))[1:K,2]\n",
    "        \n",
    "        #... and calculate the mean value of the K nearest neighbors\n",
    "        if(is.vector(train.label)){\n",
    "            train.label <- matrix(train.label)\n",
    "        }\n",
    "        mean.value[i] <- sum(train.label[nn,])/K\n",
    "    }\n",
    "    \n",
    "    # Return the mean value as output\n",
    "    return (mean.value)\n",
    "}\n",
    "\n",
    "\n",
    "rmse <- function(real.value, estimated.value) {\n",
    "  error <- estimated.value - real.value\n",
    "  sqrderror <- error**2\n",
    "  SSE <- sum(sqrderror) #Sum of Square Error \n",
    "  MSE <- SSE/length(real.value) #Mean Square Error (also known as Variance)\n",
    "  RMSE <- MSE**0.5 #Square Roor of Mean Square Error\n",
    "  return (RMSE)\n",
    "}"
   ]
  },
  {
   "cell_type": "markdown",
   "metadata": {},
   "source": [
    "### Q1-2 Plot training and testing errors v.s. 1/K"
   ]
  },
  {
   "cell_type": "markdown",
   "metadata": {},
   "source": [
    "We load the data, then separate the predictors (train.data and test.data) from the target values (train.value and test.value) for input to the knn regressor function."
   ]
  },
  {
   "cell_type": "code",
   "execution_count": 7,
   "metadata": {},
   "outputs": [],
   "source": [
    "# Split dependent and independent attributes\n",
    "train.label <- train.data[2] #Dependent variable\n",
    "train.data <- train.data[1] #Independent variable\n",
    "\n",
    "test.label <- test.data[2]\n",
    "test.data <- test.data[1]\n",
    "\n",
    "# set random seed\n",
    "set.seed(1234)"
   ]
  },
  {
   "cell_type": "code",
   "execution_count": 8,
   "metadata": {},
   "outputs": [
    {
     "data": {
      "text/html": [
       "<ol class=list-inline>\n",
       "\t<li>0.723333333333333</li>\n",
       "\t<li>0.723333333333333</li>\n",
       "\t<li>0.793333333333333</li>\n",
       "\t<li>0.75</li>\n",
       "\t<li>0.853333333333333</li>\n",
       "\t<li>0.823333333333333</li>\n",
       "\t<li>0.916666666666667</li>\n",
       "\t<li>0.916666666666667</li>\n",
       "\t<li>1.05333333333333</li>\n",
       "\t<li>1.10666666666667</li>\n",
       "\t<li>1.28333333333333</li>\n",
       "\t<li>1.29</li>\n",
       "\t<li>1.52333333333333</li>\n",
       "\t<li>1.55</li>\n",
       "\t<li>1.74</li>\n",
       "\t<li>1.63</li>\n",
       "\t<li>1.9</li>\n",
       "\t<li>2.01</li>\n",
       "\t<li>2.4</li>\n",
       "\t<li>2.55</li>\n",
       "\t<li>3.06</li>\n",
       "\t<li>3.36</li>\n",
       "\t<li>3.87</li>\n",
       "\t<li>4.26</li>\n",
       "\t<li>4.74</li>\n",
       "\t<li>5.16</li>\n",
       "\t<li>5.73</li>\n",
       "\t<li>6.06</li>\n",
       "\t<li>6.51</li>\n",
       "\t<li>6.63</li>\n",
       "\t<li>7.23</li>\n",
       "\t<li>7.5</li>\n",
       "\t<li>7.95</li>\n",
       "\t<li>8.52</li>\n",
       "\t<li>9.12</li>\n",
       "\t<li>10.32</li>\n",
       "\t<li>11.19</li>\n",
       "\t<li>12.69</li>\n",
       "\t<li>13.68</li>\n",
       "\t<li>15.03</li>\n",
       "\t<li>15.69</li>\n",
       "\t<li>15.69</li>\n",
       "</ol>\n"
      ],
      "text/latex": [
       "\\begin{enumerate*}\n",
       "\\item 0.723333333333333\n",
       "\\item 0.723333333333333\n",
       "\\item 0.793333333333333\n",
       "\\item 0.75\n",
       "\\item 0.853333333333333\n",
       "\\item 0.823333333333333\n",
       "\\item 0.916666666666667\n",
       "\\item 0.916666666666667\n",
       "\\item 1.05333333333333\n",
       "\\item 1.10666666666667\n",
       "\\item 1.28333333333333\n",
       "\\item 1.29\n",
       "\\item 1.52333333333333\n",
       "\\item 1.55\n",
       "\\item 1.74\n",
       "\\item 1.63\n",
       "\\item 1.9\n",
       "\\item 2.01\n",
       "\\item 2.4\n",
       "\\item 2.55\n",
       "\\item 3.06\n",
       "\\item 3.36\n",
       "\\item 3.87\n",
       "\\item 4.26\n",
       "\\item 4.74\n",
       "\\item 5.16\n",
       "\\item 5.73\n",
       "\\item 6.06\n",
       "\\item 6.51\n",
       "\\item 6.63\n",
       "\\item 7.23\n",
       "\\item 7.5\n",
       "\\item 7.95\n",
       "\\item 8.52\n",
       "\\item 9.12\n",
       "\\item 10.32\n",
       "\\item 11.19\n",
       "\\item 12.69\n",
       "\\item 13.68\n",
       "\\item 15.03\n",
       "\\item 15.69\n",
       "\\item 15.69\n",
       "\\end{enumerate*}\n"
      ],
      "text/markdown": [
       "1. 0.723333333333333\n",
       "2. 0.723333333333333\n",
       "3. 0.793333333333333\n",
       "4. 0.75\n",
       "5. 0.853333333333333\n",
       "6. 0.823333333333333\n",
       "7. 0.916666666666667\n",
       "8. 0.916666666666667\n",
       "9. 1.05333333333333\n",
       "10. 1.10666666666667\n",
       "11. 1.28333333333333\n",
       "12. 1.29\n",
       "13. 1.52333333333333\n",
       "14. 1.55\n",
       "15. 1.74\n",
       "16. 1.63\n",
       "17. 1.9\n",
       "18. 2.01\n",
       "19. 2.4\n",
       "20. 2.55\n",
       "21. 3.06\n",
       "22. 3.36\n",
       "23. 3.87\n",
       "24. 4.26\n",
       "25. 4.74\n",
       "26. 5.16\n",
       "27. 5.73\n",
       "28. 6.06\n",
       "29. 6.51\n",
       "30. 6.63\n",
       "31. 7.23\n",
       "32. 7.5\n",
       "33. 7.95\n",
       "34. 8.52\n",
       "35. 9.12\n",
       "36. 10.32\n",
       "37. 11.19\n",
       "38. 12.69\n",
       "39. 13.68\n",
       "40. 15.03\n",
       "41. 15.69\n",
       "42. 15.69\n",
       "\n",
       "\n"
      ],
      "text/plain": [
       " [1]  0.7233333  0.7233333  0.7933333  0.7500000  0.8533333  0.8233333\n",
       " [7]  0.9166667  0.9166667  1.0533333  1.1066667  1.2833333  1.2900000\n",
       "[13]  1.5233333  1.5500000  1.7400000  1.6300000  1.9000000  2.0100000\n",
       "[19]  2.4000000  2.5500000  3.0600000  3.3600000  3.8700000  4.2600000\n",
       "[25]  4.7400000  5.1600000  5.7300000  6.0600000  6.5100000  6.6300000\n",
       "[31]  7.2300000  7.5000000  7.9500000  8.5200000  9.1200000 10.3200000\n",
       "[37] 11.1900000 12.6900000 13.6800000 15.0300000 15.6900000 15.6900000"
      ]
     },
     "metadata": {},
     "output_type": "display_data"
    }
   ],
   "source": [
    "#test knn\n",
    "knn(train.data,train.label,test.data,K=3)"
   ]
  },
  {
   "cell_type": "code",
   "execution_count": 9,
   "metadata": {},
   "outputs": [
    {
     "data": {
      "text/html": [
       "1.30197154123272"
      ],
      "text/latex": [
       "1.30197154123272"
      ],
      "text/markdown": [
       "1.30197154123272"
      ],
      "text/plain": [
       "[1] 1.301972"
      ]
     },
     "metadata": {},
     "output_type": "display_data"
    }
   ],
   "source": [
    "#test rmse\n",
    "rmse(knn(train.data,train.label,test.data,K=3),test.label)"
   ]
  },
  {
   "cell_type": "markdown",
   "metadata": {},
   "source": [
    "We calculate the train and test RMSE's for K in 1:20."
   ]
  },
  {
   "cell_type": "code",
   "execution_count": 10,
   "metadata": {},
   "outputs": [],
   "source": [
    "# Initiate a dataframe to record RMSE\n",
    "rmse.df <- data.frame('K'=1:20, 'TrainRMSE'=0, 'TestRMSE'=0)\n",
    "\n",
    "\n",
    "# calculating rmse... \n",
    "for (k in 1:20) {\n",
    "    \n",
    "    # training rmse\n",
    "    rmse.df[k, 'TrainRMSE'] = rmse(knn(train.data,train.label,test.data,K=k),train.label)\n",
    "    \n",
    "    \n",
    "    # testing rmse\n",
    "    rmse.df[k, 'TestRMSE'] = rmse(knn(train.data,train.label,test.data,K=k),test.label)\n",
    "        \n",
    "}"
   ]
  },
  {
   "cell_type": "code",
   "execution_count": 11,
   "metadata": {},
   "outputs": [
    {
     "data": {
      "text/html": [
       "<table>\n",
       "<thead><tr><th scope=col>K</th><th scope=col>TrainRMSE</th><th scope=col>TestRMSE</th></tr></thead>\n",
       "<tbody>\n",
       "\t<tr><td> 1       </td><td>0.0000000</td><td>1.2998938</td></tr>\n",
       "\t<tr><td> 2       </td><td>0.3498120</td><td>1.4583110</td></tr>\n",
       "\t<tr><td> 3       </td><td>0.3103885</td><td>1.3019715</td></tr>\n",
       "\t<tr><td> 4       </td><td>0.4092240</td><td>1.3611987</td></tr>\n",
       "\t<tr><td> 5       </td><td>0.3977682</td><td>1.1748214</td></tr>\n",
       "\t<tr><td> 6       </td><td>0.5742264</td><td>1.2136546</td></tr>\n",
       "\t<tr><td> 7       </td><td>0.6645726</td><td>1.0388807</td></tr>\n",
       "\t<tr><td> 8       </td><td>0.8530190</td><td>1.0847818</td></tr>\n",
       "\t<tr><td> 9       </td><td>0.9474979</td><td>0.9770276</td></tr>\n",
       "\t<tr><td>10       </td><td>1.1328322</td><td>1.0227636</td></tr>\n",
       "\t<tr><td>11       </td><td>1.2087154</td><td>0.9527024</td></tr>\n",
       "\t<tr><td>12       </td><td>1.3801694</td><td>1.0531665</td></tr>\n",
       "\t<tr><td>13       </td><td>1.4509316</td><td>1.0243344</td></tr>\n",
       "\t<tr><td>14       </td><td>1.5993922</td><td>1.1309280</td></tr>\n",
       "\t<tr><td>15       </td><td>1.6589758</td><td>1.1171515</td></tr>\n",
       "\t<tr><td>16       </td><td>1.7914292</td><td>1.2391697</td></tr>\n",
       "\t<tr><td>17       </td><td>1.8641678</td><td>1.2510488</td></tr>\n",
       "\t<tr><td>18       </td><td>1.9847355</td><td>1.3585587</td></tr>\n",
       "\t<tr><td>19       </td><td>2.0585437</td><td>1.3846316</td></tr>\n",
       "\t<tr><td>20       </td><td>2.1810943</td><td>1.5089615</td></tr>\n",
       "</tbody>\n",
       "</table>\n"
      ],
      "text/latex": [
       "\\begin{tabular}{r|lll}\n",
       " K & TrainRMSE & TestRMSE\\\\\n",
       "\\hline\n",
       "\t  1        & 0.0000000 & 1.2998938\\\\\n",
       "\t  2        & 0.3498120 & 1.4583110\\\\\n",
       "\t  3        & 0.3103885 & 1.3019715\\\\\n",
       "\t  4        & 0.4092240 & 1.3611987\\\\\n",
       "\t  5        & 0.3977682 & 1.1748214\\\\\n",
       "\t  6        & 0.5742264 & 1.2136546\\\\\n",
       "\t  7        & 0.6645726 & 1.0388807\\\\\n",
       "\t  8        & 0.8530190 & 1.0847818\\\\\n",
       "\t  9        & 0.9474979 & 0.9770276\\\\\n",
       "\t 10        & 1.1328322 & 1.0227636\\\\\n",
       "\t 11        & 1.2087154 & 0.9527024\\\\\n",
       "\t 12        & 1.3801694 & 1.0531665\\\\\n",
       "\t 13        & 1.4509316 & 1.0243344\\\\\n",
       "\t 14        & 1.5993922 & 1.1309280\\\\\n",
       "\t 15        & 1.6589758 & 1.1171515\\\\\n",
       "\t 16        & 1.7914292 & 1.2391697\\\\\n",
       "\t 17        & 1.8641678 & 1.2510488\\\\\n",
       "\t 18        & 1.9847355 & 1.3585587\\\\\n",
       "\t 19        & 2.0585437 & 1.3846316\\\\\n",
       "\t 20        & 2.1810943 & 1.5089615\\\\\n",
       "\\end{tabular}\n"
      ],
      "text/markdown": [
       "\n",
       "K | TrainRMSE | TestRMSE | \n",
       "|---|---|---|---|---|---|---|---|---|---|---|---|---|---|---|---|---|---|---|---|\n",
       "|  1        | 0.0000000 | 1.2998938 | \n",
       "|  2        | 0.3498120 | 1.4583110 | \n",
       "|  3        | 0.3103885 | 1.3019715 | \n",
       "|  4        | 0.4092240 | 1.3611987 | \n",
       "|  5        | 0.3977682 | 1.1748214 | \n",
       "|  6        | 0.5742264 | 1.2136546 | \n",
       "|  7        | 0.6645726 | 1.0388807 | \n",
       "|  8        | 0.8530190 | 1.0847818 | \n",
       "|  9        | 0.9474979 | 0.9770276 | \n",
       "| 10        | 1.1328322 | 1.0227636 | \n",
       "| 11        | 1.2087154 | 0.9527024 | \n",
       "| 12        | 1.3801694 | 1.0531665 | \n",
       "| 13        | 1.4509316 | 1.0243344 | \n",
       "| 14        | 1.5993922 | 1.1309280 | \n",
       "| 15        | 1.6589758 | 1.1171515 | \n",
       "| 16        | 1.7914292 | 1.2391697 | \n",
       "| 17        | 1.8641678 | 1.2510488 | \n",
       "| 18        | 1.9847355 | 1.3585587 | \n",
       "| 19        | 2.0585437 | 1.3846316 | \n",
       "| 20        | 2.1810943 | 1.5089615 | \n",
       "\n",
       "\n"
      ],
      "text/plain": [
       "   K  TrainRMSE TestRMSE \n",
       "1   1 0.0000000 1.2998938\n",
       "2   2 0.3498120 1.4583110\n",
       "3   3 0.3103885 1.3019715\n",
       "4   4 0.4092240 1.3611987\n",
       "5   5 0.3977682 1.1748214\n",
       "6   6 0.5742264 1.2136546\n",
       "7   7 0.6645726 1.0388807\n",
       "8   8 0.8530190 1.0847818\n",
       "9   9 0.9474979 0.9770276\n",
       "10 10 1.1328322 1.0227636\n",
       "11 11 1.2087154 0.9527024\n",
       "12 12 1.3801694 1.0531665\n",
       "13 13 1.4509316 1.0243344\n",
       "14 14 1.5993922 1.1309280\n",
       "15 15 1.6589758 1.1171515\n",
       "16 16 1.7914292 1.2391697\n",
       "17 17 1.8641678 1.2510488\n",
       "18 18 1.9847355 1.3585587\n",
       "19 19 2.0585437 1.3846316\n",
       "20 20 2.1810943 1.5089615"
      ]
     },
     "metadata": {},
     "output_type": "display_data"
    }
   ],
   "source": [
    "rmse.df"
   ]
  },
  {
   "cell_type": "markdown",
   "metadata": {},
   "source": [
    "We plot the training and testing errors."
   ]
  },
  {
   "cell_type": "code",
   "execution_count": 12,
   "metadata": {},
   "outputs": [
    {
     "data": {},
     "metadata": {},
     "output_type": "display_data"
    },
    {
     "data": {
      "image/png": "[encoded data removed]",
      "text/plain": [
       "plot without title"
      ]
     },
     "metadata": {},
     "output_type": "display_data",
     "source": "R display func"
    }
   ],
   "source": [
    "#Reshape\n",
    "rmse.df <- melt(rmse.df, id='K') # reshape for visualization\n",
    "names(rmse.df) <- c('K', 'type', 'RMSE')\n",
    "\n",
    "# Plot\n",
    "ggplot(data=rmse.df, aes(x=1/K, y=RMSE, color=type)) + geom_line() +\n",
    "       scale_color_discrete(guide=guide_legend(title=NULL)) +\n",
    "       theme_minimal() +\n",
    "       scale_x_continuous(breaks=seq(0, 1, 0.1)) +\n",
    "       ggtitle(\"Train and Test RMSE's for Various 1/K\")"
   ]
  },
  {
   "cell_type": "markdown",
   "metadata": {},
   "source": [
    "** Diagram 1-1: Train & Test Error for various 1/K Values **"
   ]
  },
  {
   "cell_type": "markdown",
   "metadata": {},
   "source": [
    "### Q1-3 Report the best K"
   ]
  },
  {
   "cell_type": "markdown",
   "metadata": {},
   "source": [
    "We see that as K increases (Moving from Right to Left on the Graph above) the complexity of the model decreases, as more values of the training data are used in the final prediction for each row in the test set. \n",
    "\n",
    "It can be seen that the training error decreases with increasing complexity to the **best RMSE of 0 at a K value of 1 (1/K = 1)**. The decision boundary would be flexible enough to collect only the datapoint that is used in validation and such will result in 0% error. As more values are selected, more noise is added and the training error increases.\n",
    "\n",
    "However test error only increases until K = 2 and then with drops with reducing complexity to **the best RMSE of 0.953 (3sf) at a K value of 11 (1/K = 0.091 3sf)** . Unlike the training error, the decision boundary is flexible enough to collect the **best** points and reduces the addition of noise from additional datapoints.\n",
    "\n",
    "It is noted that too much complexity when the K is above a value of 11 (right side of the chart), causes the model to overfit the training data and too little complexity when K is below a value of 11 (left side of chart) causes the model to underfit the training data. While this is the general trend, it can be seen in the above graph that similar K values can still result in a wide variety of results. This is examined further in Question 2."
   ]
  },
  {
   "cell_type": "markdown",
   "metadata": {},
   "source": [
    "## Question 2 [K-fold Cross Validation]"
   ]
  },
  {
   "cell_type": "markdown",
   "metadata": {},
   "source": [
    "### Q2-1 Implement a K-fold cross validation"
   ]
  },
  {
   "cell_type": "markdown",
   "metadata": {},
   "source": [
    "We define a function to segment a dataset into a given number of folds for K-fold cross validation to determine the most suitable value for the number of nearest neighbours K considering all the folds."
   ]
  },
  {
   "cell_type": "code",
   "execution_count": 13,
   "metadata": {},
   "outputs": [],
   "source": [
    "cv <- function (train.data, train.label, num.fold=10, K=3){\n",
    "    # Initiate a dataframe to record RMSE\n",
    "    rmse.df <- data.frame('K'=rep(0,K), 'L'=rep(0,num.fold), 'RMSE'=rep(0, num.fold * K))\n",
    "    \n",
    "    #Find the length of the training set\n",
    "    train.length = dim(train.data)[1]\n",
    "    dev.size = floor(train.length / num.fold) # number of samples reserved for validation\n",
    "    dev.totalsize = dev.size*num.fold\n",
    "    # notice that since the sample size may not be a multiple of 10!\n",
    "    print(paste(dev.totalsize,'of the',train.length,'data points used in cross-validation',sep = ' '))\n",
    "    \n",
    "    #Create a subset of all training values to use in the Kfolds validation\n",
    "    set.seed(1234)\n",
    "    dev.allindices = sample(1:train.length,dev.totalsize)\n",
    "\n",
    "    for (l in 1:num.fold) {\n",
    "        \n",
    "        dev.indices = dev.allindices[(l*dev.size-3):(l*dev.size)] #Select the validation indices for this fold\n",
    "        train.indices = setdiff(1:train.length,dev.indices) #Select all other training indices for training\n",
    "        \n",
    "\n",
    "        \n",
    "        # for each value of k...\n",
    "       for (k in 1:K) {\n",
    "            index = ((k-1)*num.fold+l)\n",
    "            rmse.df[index,1] = k\n",
    "            rmse.df[index,2] = l\n",
    "           \n",
    "\n",
    "           \n",
    "            rmse.df[((k-1)*num.fold+l),3] = rmse(knn(train.data[train.indices,],train.label[train.indices,],train.data[dev.indices,],K=k), train.label[dev.indices,])\n",
    "        }\n",
    "    \n",
    "    }\n",
    "   return(rmse.df)\n",
    "}"
   ]
  },
  {
   "cell_type": "code",
   "execution_count": 14,
   "metadata": {},
   "outputs": [
    {
     "name": "stdout",
     "output_type": "stream",
     "text": [
      "[1] \"40 of the 42 data points used in cross-validation\"\n"
     ]
    },
    {
     "data": {
      "text/html": [
       "<table>\n",
       "<thead><tr><th scope=col>K</th><th scope=col>L</th><th scope=col>RMSE</th></tr></thead>\n",
       "<tbody>\n",
       "\t<tr><td>1        </td><td> 1       </td><td>0.5655307</td></tr>\n",
       "\t<tr><td>1        </td><td> 2       </td><td>0.3716517</td></tr>\n",
       "\t<tr><td>1        </td><td> 3       </td><td>0.3400735</td></tr>\n",
       "\t<tr><td>1        </td><td> 4       </td><td>0.9353074</td></tr>\n",
       "\t<tr><td>1        </td><td> 5       </td><td>0.1507481</td></tr>\n",
       "\t<tr><td>1        </td><td> 6       </td><td>1.0580879</td></tr>\n",
       "\t<tr><td>1        </td><td> 7       </td><td>0.6386901</td></tr>\n",
       "\t<tr><td>1        </td><td> 8       </td><td>0.3412111</td></tr>\n",
       "\t<tr><td>1        </td><td> 9       </td><td>1.2510196</td></tr>\n",
       "\t<tr><td>1        </td><td>10       </td><td>0.7101232</td></tr>\n",
       "\t<tr><td>2        </td><td> 1       </td><td>0.4824417</td></tr>\n",
       "\t<tr><td>2        </td><td> 2       </td><td>0.1921751</td></tr>\n",
       "\t<tr><td>2        </td><td> 3       </td><td>0.5607473</td></tr>\n",
       "\t<tr><td>2        </td><td> 4       </td><td>0.4730354</td></tr>\n",
       "\t<tr><td>2        </td><td> 5       </td><td>0.2556976</td></tr>\n",
       "\t<tr><td>2        </td><td> 6       </td><td>0.7018814</td></tr>\n",
       "\t<tr><td>2        </td><td> 7       </td><td>0.5134625</td></tr>\n",
       "\t<tr><td>2        </td><td> 8       </td><td>0.4419347</td></tr>\n",
       "\t<tr><td>2        </td><td> 9       </td><td>0.6024066</td></tr>\n",
       "\t<tr><td>2        </td><td>10       </td><td>0.4550481</td></tr>\n",
       "\t<tr><td>3        </td><td> 1       </td><td>0.4636390</td></tr>\n",
       "\t<tr><td>3        </td><td> 2       </td><td>0.1533967</td></tr>\n",
       "\t<tr><td>3        </td><td> 3       </td><td>0.2519425</td></tr>\n",
       "\t<tr><td>3        </td><td> 4       </td><td>0.5606469</td></tr>\n",
       "\t<tr><td>3        </td><td> 5       </td><td>0.5027784</td></tr>\n",
       "\t<tr><td>3        </td><td> 6       </td><td>0.6650146</td></tr>\n",
       "\t<tr><td>3        </td><td> 7       </td><td>0.5728898</td></tr>\n",
       "\t<tr><td>3        </td><td> 8       </td><td>0.2289347</td></tr>\n",
       "\t<tr><td>3        </td><td> 9       </td><td>0.7803810</td></tr>\n",
       "\t<tr><td>3        </td><td>10       </td><td>0.6189934</td></tr>\n",
       "</tbody>\n",
       "</table>\n"
      ],
      "text/latex": [
       "\\begin{tabular}{r|lll}\n",
       " K & L & RMSE\\\\\n",
       "\\hline\n",
       "\t 1         &  1        & 0.5655307\\\\\n",
       "\t 1         &  2        & 0.3716517\\\\\n",
       "\t 1         &  3        & 0.3400735\\\\\n",
       "\t 1         &  4        & 0.9353074\\\\\n",
       "\t 1         &  5        & 0.1507481\\\\\n",
       "\t 1         &  6        & 1.0580879\\\\\n",
       "\t 1         &  7        & 0.6386901\\\\\n",
       "\t 1         &  8        & 0.3412111\\\\\n",
       "\t 1         &  9        & 1.2510196\\\\\n",
       "\t 1         & 10        & 0.7101232\\\\\n",
       "\t 2         &  1        & 0.4824417\\\\\n",
       "\t 2         &  2        & 0.1921751\\\\\n",
       "\t 2         &  3        & 0.5607473\\\\\n",
       "\t 2         &  4        & 0.4730354\\\\\n",
       "\t 2         &  5        & 0.2556976\\\\\n",
       "\t 2         &  6        & 0.7018814\\\\\n",
       "\t 2         &  7        & 0.5134625\\\\\n",
       "\t 2         &  8        & 0.4419347\\\\\n",
       "\t 2         &  9        & 0.6024066\\\\\n",
       "\t 2         & 10        & 0.4550481\\\\\n",
       "\t 3         &  1        & 0.4636390\\\\\n",
       "\t 3         &  2        & 0.1533967\\\\\n",
       "\t 3         &  3        & 0.2519425\\\\\n",
       "\t 3         &  4        & 0.5606469\\\\\n",
       "\t 3         &  5        & 0.5027784\\\\\n",
       "\t 3         &  6        & 0.6650146\\\\\n",
       "\t 3         &  7        & 0.5728898\\\\\n",
       "\t 3         &  8        & 0.2289347\\\\\n",
       "\t 3         &  9        & 0.7803810\\\\\n",
       "\t 3         & 10        & 0.6189934\\\\\n",
       "\\end{tabular}\n"
      ],
      "text/markdown": [
       "\n",
       "K | L | RMSE | \n",
       "|---|---|---|---|---|---|---|---|---|---|---|---|---|---|---|---|---|---|---|---|---|---|---|---|---|---|---|---|---|---|\n",
       "| 1         |  1        | 0.5655307 | \n",
       "| 1         |  2        | 0.3716517 | \n",
       "| 1         |  3        | 0.3400735 | \n",
       "| 1         |  4        | 0.9353074 | \n",
       "| 1         |  5        | 0.1507481 | \n",
       "| 1         |  6        | 1.0580879 | \n",
       "| 1         |  7        | 0.6386901 | \n",
       "| 1         |  8        | 0.3412111 | \n",
       "| 1         |  9        | 1.2510196 | \n",
       "| 1         | 10        | 0.7101232 | \n",
       "| 2         |  1        | 0.4824417 | \n",
       "| 2         |  2        | 0.1921751 | \n",
       "| 2         |  3        | 0.5607473 | \n",
       "| 2         |  4        | 0.4730354 | \n",
       "| 2         |  5        | 0.2556976 | \n",
       "| 2         |  6        | 0.7018814 | \n",
       "| 2         |  7        | 0.5134625 | \n",
       "| 2         |  8        | 0.4419347 | \n",
       "| 2         |  9        | 0.6024066 | \n",
       "| 2         | 10        | 0.4550481 | \n",
       "| 3         |  1        | 0.4636390 | \n",
       "| 3         |  2        | 0.1533967 | \n",
       "| 3         |  3        | 0.2519425 | \n",
       "| 3         |  4        | 0.5606469 | \n",
       "| 3         |  5        | 0.5027784 | \n",
       "| 3         |  6        | 0.6650146 | \n",
       "| 3         |  7        | 0.5728898 | \n",
       "| 3         |  8        | 0.2289347 | \n",
       "| 3         |  9        | 0.7803810 | \n",
       "| 3         | 10        | 0.6189934 | \n",
       "\n",
       "\n"
      ],
      "text/plain": [
       "   K L  RMSE     \n",
       "1  1  1 0.5655307\n",
       "2  1  2 0.3716517\n",
       "3  1  3 0.3400735\n",
       "4  1  4 0.9353074\n",
       "5  1  5 0.1507481\n",
       "6  1  6 1.0580879\n",
       "7  1  7 0.6386901\n",
       "8  1  8 0.3412111\n",
       "9  1  9 1.2510196\n",
       "10 1 10 0.7101232\n",
       "11 2  1 0.4824417\n",
       "12 2  2 0.1921751\n",
       "13 2  3 0.5607473\n",
       "14 2  4 0.4730354\n",
       "15 2  5 0.2556976\n",
       "16 2  6 0.7018814\n",
       "17 2  7 0.5134625\n",
       "18 2  8 0.4419347\n",
       "19 2  9 0.6024066\n",
       "20 2 10 0.4550481\n",
       "21 3  1 0.4636390\n",
       "22 3  2 0.1533967\n",
       "23 3  3 0.2519425\n",
       "24 3  4 0.5606469\n",
       "25 3  5 0.5027784\n",
       "26 3  6 0.6650146\n",
       "27 3  7 0.5728898\n",
       "28 3  8 0.2289347\n",
       "29 3  9 0.7803810\n",
       "30 3 10 0.6189934"
      ]
     },
     "metadata": {},
     "output_type": "display_data"
    }
   ],
   "source": [
    "#test cv\n",
    "cv(train.data,train.label,num.fold = 10,K = 3)"
   ]
  },
  {
   "cell_type": "code",
   "execution_count": 15,
   "metadata": {},
   "outputs": [
    {
     "name": "stdout",
     "output_type": "stream",
     "text": [
      "[1] \"40 of the 42 data points used in cross-validation\"\n"
     ]
    }
   ],
   "source": [
    "K <- 20 # maximum number of nearest neighbours\n",
    "L <- 10 # number of folds in cross validation\n",
    "cv.results <- cv(train.data,train.label,num.fold = L,K=K)\n",
    "\n",
    "K.results <- data.frame('K'=rep(0,K),'mean'=rep(0,K),'sd'=rep(0,K))\n",
    "for (k in 1:K){\n",
    "    k_ind = ((k-1)*L+1):(k*L) #relevant indices\n",
    "    meank = mean(cv.results[k_ind,3])\n",
    "    sdk = sd(cv.results[k_ind,3])\n",
    "    K.results[k,1] = k\n",
    "    K.results[k,2] = meank\n",
    "    K.results[k,3] = sdk\n",
    "    \n",
    "}"
   ]
  },
  {
   "cell_type": "code",
   "execution_count": 16,
   "metadata": {},
   "outputs": [
    {
     "data": {
      "text/html": [
       "<table>\n",
       "<thead><tr><th scope=col>K</th><th scope=col>mean</th><th scope=col>sd</th></tr></thead>\n",
       "<tbody>\n",
       "\t<tr><td> 1       </td><td>0.6362443</td><td>0.3553217</td></tr>\n",
       "\t<tr><td> 2       </td><td>0.4678830</td><td>0.1511685</td></tr>\n",
       "\t<tr><td> 3       </td><td>0.4798617</td><td>0.2058615</td></tr>\n",
       "\t<tr><td> 4       </td><td>0.4574927</td><td>0.2580051</td></tr>\n",
       "\t<tr><td> 5       </td><td>0.5293910</td><td>0.3607482</td></tr>\n",
       "\t<tr><td> 6       </td><td>0.6405132</td><td>0.4934382</td></tr>\n",
       "\t<tr><td> 7       </td><td>0.7754134</td><td>0.5814189</td></tr>\n",
       "\t<tr><td> 8       </td><td>0.8836652</td><td>0.7037098</td></tr>\n",
       "\t<tr><td> 9       </td><td>0.9806939</td><td>0.8160032</td></tr>\n",
       "\t<tr><td>10       </td><td>1.0951783</td><td>0.8821440</td></tr>\n",
       "\t<tr><td>11       </td><td>1.2027480</td><td>0.9623020</td></tr>\n",
       "\t<tr><td>12       </td><td>1.3351367</td><td>0.9797010</td></tr>\n",
       "\t<tr><td>13       </td><td>1.4348880</td><td>1.0437745</td></tr>\n",
       "\t<tr><td>14       </td><td>1.4965821</td><td>1.1088182</td></tr>\n",
       "\t<tr><td>15       </td><td>1.6140757</td><td>1.1476579</td></tr>\n",
       "\t<tr><td>16       </td><td>1.7003864</td><td>1.2101019</td></tr>\n",
       "\t<tr><td>17       </td><td>1.8521111</td><td>1.2042781</td></tr>\n",
       "\t<tr><td>18       </td><td>1.9105555</td><td>1.2915083</td></tr>\n",
       "\t<tr><td>19       </td><td>2.0392332</td><td>1.3225600</td></tr>\n",
       "\t<tr><td>20       </td><td>2.1407699</td><td>1.3657650</td></tr>\n",
       "</tbody>\n",
       "</table>\n"
      ],
      "text/latex": [
       "\\begin{tabular}{r|lll}\n",
       " K & mean & sd\\\\\n",
       "\\hline\n",
       "\t  1        & 0.6362443 & 0.3553217\\\\\n",
       "\t  2        & 0.4678830 & 0.1511685\\\\\n",
       "\t  3        & 0.4798617 & 0.2058615\\\\\n",
       "\t  4        & 0.4574927 & 0.2580051\\\\\n",
       "\t  5        & 0.5293910 & 0.3607482\\\\\n",
       "\t  6        & 0.6405132 & 0.4934382\\\\\n",
       "\t  7        & 0.7754134 & 0.5814189\\\\\n",
       "\t  8        & 0.8836652 & 0.7037098\\\\\n",
       "\t  9        & 0.9806939 & 0.8160032\\\\\n",
       "\t 10        & 1.0951783 & 0.8821440\\\\\n",
       "\t 11        & 1.2027480 & 0.9623020\\\\\n",
       "\t 12        & 1.3351367 & 0.9797010\\\\\n",
       "\t 13        & 1.4348880 & 1.0437745\\\\\n",
       "\t 14        & 1.4965821 & 1.1088182\\\\\n",
       "\t 15        & 1.6140757 & 1.1476579\\\\\n",
       "\t 16        & 1.7003864 & 1.2101019\\\\\n",
       "\t 17        & 1.8521111 & 1.2042781\\\\\n",
       "\t 18        & 1.9105555 & 1.2915083\\\\\n",
       "\t 19        & 2.0392332 & 1.3225600\\\\\n",
       "\t 20        & 2.1407699 & 1.3657650\\\\\n",
       "\\end{tabular}\n"
      ],
      "text/markdown": [
       "\n",
       "K | mean | sd | \n",
       "|---|---|---|---|---|---|---|---|---|---|---|---|---|---|---|---|---|---|---|---|\n",
       "|  1        | 0.6362443 | 0.3553217 | \n",
       "|  2        | 0.4678830 | 0.1511685 | \n",
       "|  3        | 0.4798617 | 0.2058615 | \n",
       "|  4        | 0.4574927 | 0.2580051 | \n",
       "|  5        | 0.5293910 | 0.3607482 | \n",
       "|  6        | 0.6405132 | 0.4934382 | \n",
       "|  7        | 0.7754134 | 0.5814189 | \n",
       "|  8        | 0.8836652 | 0.7037098 | \n",
       "|  9        | 0.9806939 | 0.8160032 | \n",
       "| 10        | 1.0951783 | 0.8821440 | \n",
       "| 11        | 1.2027480 | 0.9623020 | \n",
       "| 12        | 1.3351367 | 0.9797010 | \n",
       "| 13        | 1.4348880 | 1.0437745 | \n",
       "| 14        | 1.4965821 | 1.1088182 | \n",
       "| 15        | 1.6140757 | 1.1476579 | \n",
       "| 16        | 1.7003864 | 1.2101019 | \n",
       "| 17        | 1.8521111 | 1.2042781 | \n",
       "| 18        | 1.9105555 | 1.2915083 | \n",
       "| 19        | 2.0392332 | 1.3225600 | \n",
       "| 20        | 2.1407699 | 1.3657650 | \n",
       "\n",
       "\n"
      ],
      "text/plain": [
       "   K  mean      sd       \n",
       "1   1 0.6362443 0.3553217\n",
       "2   2 0.4678830 0.1511685\n",
       "3   3 0.4798617 0.2058615\n",
       "4   4 0.4574927 0.2580051\n",
       "5   5 0.5293910 0.3607482\n",
       "6   6 0.6405132 0.4934382\n",
       "7   7 0.7754134 0.5814189\n",
       "8   8 0.8836652 0.7037098\n",
       "9   9 0.9806939 0.8160032\n",
       "10 10 1.0951783 0.8821440\n",
       "11 11 1.2027480 0.9623020\n",
       "12 12 1.3351367 0.9797010\n",
       "13 13 1.4348880 1.0437745\n",
       "14 14 1.4965821 1.1088182\n",
       "15 15 1.6140757 1.1476579\n",
       "16 16 1.7003864 1.2101019\n",
       "17 17 1.8521111 1.2042781\n",
       "18 18 1.9105555 1.2915083\n",
       "19 19 2.0392332 1.3225600\n",
       "20 20 2.1407699 1.3657650"
      ]
     },
     "metadata": {},
     "output_type": "display_data"
    }
   ],
   "source": [
    "K.results"
   ]
  },
  {
   "cell_type": "markdown",
   "metadata": {},
   "source": [
    "### Q2-2 Plot RMSE v.s. 1/K"
   ]
  },
  {
   "cell_type": "code",
   "execution_count": 17,
   "metadata": {},
   "outputs": [
    {
     "data": {},
     "metadata": {},
     "output_type": "display_data"
    },
    {
     "data": {
      "image/png": "[encoded data removed]",
      "text/plain": [
       "plot without title"
      ]
     },
     "metadata": {},
     "output_type": "display_data",
     "source": "R display func"
    }
   ],
   "source": [
    "# Plot the RMSE vs 1/K\n",
    "\n",
    "ggplot(data=K.results, aes(x=1/K, y=mean)) + geom_line() +\n",
    "       geom_line(data = K.results, aes(x=1/K, y=mean+sd), linetype=\"dashed\") +\n",
    "       geom_line(data = K.results, aes(x=1/K, y=mean-sd), linetype=\"dashed\") +\n",
    "       ggtitle(\"Mean RMSE +- sd v.s. 1/K\")"
   ]
  },
  {
   "cell_type": "markdown",
   "metadata": {},
   "source": [
    "**Diagram 2-1: Mean fold error from 10-fold Cross Validation on K nearest Neighbours**"
   ]
  },
  {
   "cell_type": "markdown",
   "metadata": {},
   "source": [
    "### Q2-3 Report the best K"
   ]
  },
  {
   "cell_type": "markdown",
   "metadata": {},
   "source": [
    "The trend of the above curve shows that the best value for K is at K of 4 (1/K = 0.25) It can be seen that at lower levels of complexity (left side of graph) the mean error is higher and the variance is also very high. As the K decreases, the variance decreaseses while the RMSE decreases to a optimal value at approximately K=4, the error then increases as complexity increases. Notably the variance is large at both low and high complexities since the choice of values used in validation would have a significant effect on the error in both cases (since only 4 were used for each fold) "
   ]
  },
  {
   "cell_type": "markdown",
   "metadata": {},
   "source": [
    "### Part B. Prediction Uncertainty with Bootstrapping\n",
    "This part is the adaptation of Activity 2 from KNN classification to KNN regression. You use the bootstrapping technique to quantify the uncertainty of predictions for the KNN regressor that you implemented in Part A. \n",
    "\n",
    "#### Question 3 [Bootstrapping]\n",
    "Q3-1) Modify the code in Activity 2 to handle bootstrapping for KNN regression. \n",
    "\n",
    "Q3-2) Load `Task1B_train.csv` and `Task1B_test.csv` sets. Apply your bootstrapping for KNN regression with `times = 100` (the number of subsets), `size = 25` (the size of each subset), and change `K=1,..,20` (the neighbourhood size). Now create a boxplot where the x-axis is `K`, and the y-axis is the average error (and the uncertainty around it) corresponding to each K.  \n",
    "\n",
    "Q3-3) Based on your plot in Q3-2, how does the test error and its uncertainty behave as `K` increases? \n",
    "\n",
    "Q3-4) Load `Task1B_train.csv` and `Task1B_test.csv` sets. Apply your bootstrapping for KNN regression with `K=5` (the neighbourhood size), `size = 25` (the size of each subset), and change `times = 10, 20, 30,.., 200` (the number of subsets). Now create a boxplot where the x-axis is `times`, and the y-axis is the average error (and the uncertainty around it) corresponding to each value of `times`.  \n",
    "\n",
    "Q3-5) Based on your plot in Q3-4, how does the test error and its uncertainty behave as the number of subsets in bootstrapping increases? "
   ]
  },
  {
   "cell_type": "markdown",
   "metadata": {},
   "source": [
    "## Question 3 [Bootstrapping] "
   ]
  },
  {
   "cell_type": "markdown",
   "metadata": {},
   "source": [
    "### Q3-1 Implement KNN regression with bootstrapping"
   ]
  },
  {
   "cell_type": "markdown",
   "metadata": {},
   "source": [
    "We define a function that randomly sample row indices with replacement from a given dataset."
   ]
  },
  {
   "cell_type": "code",
   "execution_count": 18,
   "metadata": {
    "scrolled": false
   },
   "outputs": [],
   "source": [
    "boot <- function (original.size=920, sample.size=25, times=100){\n",
    "    \n",
    "    indx <- matrix(nrow=times,ncol=sample.size)\n",
    "    for (t in 1:times){\n",
    "        \n",
    "        indx[t, ] <- sample(original.size,sample.size,replace = TRUE)\n",
    "        \n",
    "    }\n",
    "    \n",
    "    \n",
    "    \n",
    "    return(indx) \n",
    "}"
   ]
  },
  {
   "cell_type": "code",
   "execution_count": 19,
   "metadata": {},
   "outputs": [],
   "source": [
    "#Test bootstrap function\n",
    "#boot(920,25,100)"
   ]
  },
  {
   "cell_type": "markdown",
   "metadata": {},
   "source": [
    "We load the data, then separate the predictors from the target values for input to the knn regressor function."
   ]
  },
  {
   "cell_type": "code",
   "execution_count": 20,
   "metadata": {},
   "outputs": [
    {
     "name": "stdout",
     "output_type": "stream",
     "text": [
      "'data.frame':\t930 obs. of  5 variables:\n",
      " $ x1: num  1991 1992 1992 1992 1992 ...\n",
      " $ x2: num  1629 1607 1618 1631 1635 ...\n",
      " $ x3: num  1678 1679 1687 1683 1698 ...\n",
      " $ x4: num  1773 1718 1723 1734 1754 ...\n",
      " $ y : num  2444 2448 2485 2488 2510 ...\n",
      "'data.frame':\t930 obs. of  5 variables:\n",
      " $ x1: num  1992 1992 1992 1992 1992 ...\n",
      " $ x2: num  1614 1621 1611 1640 1646 ...\n",
      " $ x3: num  1688 1684 1672 1704 1716 ...\n",
      " $ x4: num  1750 1708 1714 1757 1754 ...\n",
      " $ y : num  2460 2470 2467 2508 2497 ...\n"
     ]
    }
   ],
   "source": [
    "# Load the datasets\n",
    "train.data <- read.csv(\"../Task1B_train.csv\")\n",
    "test.data <- read.csv(\"../Task1B_test.csv\")\n",
    "\n",
    "str(train.data)\n",
    "str(test.data)"
   ]
  },
  {
   "cell_type": "code",
   "execution_count": 21,
   "metadata": {},
   "outputs": [],
   "source": [
    "\n",
    "# Split dependent and independent attributes\n",
    "train.label <- train.data[,5]\n",
    "train.data <- train.data[,1:4]\n",
    "\n",
    "test.label <- test.data[,5]\n",
    "test.data <- test.data[,1:4]\n",
    "\n",
    "test.len = dim(test.data)[1]\n",
    "train.len = dim(train.label)[1]\n",
    "\n",
    "# set random seed\n",
    "set.seed(1234)"
   ]
  },
  {
   "cell_type": "code",
   "execution_count": 22,
   "metadata": {},
   "outputs": [],
   "source": [
    "#test knn\n",
    "#knn(train.data,matrix(train.label),test.data,K=3)"
   ]
  },
  {
   "cell_type": "code",
   "execution_count": 23,
   "metadata": {},
   "outputs": [
    {
     "data": {
      "text/html": [
       "53.9229214600003"
      ],
      "text/latex": [
       "53.9229214600003"
      ],
      "text/markdown": [
       "53.9229214600003"
      ],
      "text/plain": [
       "[1] 53.92292"
      ]
     },
     "metadata": {},
     "output_type": "display_data"
    }
   ],
   "source": [
    "#test rmse\n",
    "rmse(knn(train.data,train.label,test.data,K=3),test.label)"
   ]
  },
  {
   "cell_type": "markdown",
   "metadata": {},
   "source": [
    "Now we perform the bootstrapping"
   ]
  },
  {
   "cell_type": "markdown",
   "metadata": {},
   "source": [
    "**Q3-2) Load `Task1B_train.csv` and `Task1B_test.csv` sets. Apply your bootstrapping for KNN regression with `times = 100` (the number of subsets), `size = 25` (the size of each subset), and change `K=1,..,20` (the neighbourhood size). Now create a boxplot where the x-axis is `K`, and the y-axis is the average error (and the uncertainty around it) corresponding to each K. ** "
   ]
  },
  {
   "cell_type": "code",
   "execution_count": 24,
   "metadata": {},
   "outputs": [],
   "source": [
    "K <- 20#20             # Maximum K for KNN\n",
    "L <- 100#100            # Number of bootstrapped samples\n",
    "N <- 25#25             # Size of bootstrapped samples\n",
    "\n",
    "# generate bootstrap indices:\n",
    "boot.indx <- boot(dim(train.data)[1], N, L)\n",
    "\n",
    "\n",
    "# a dataframe to track the number of missclassified samples in each case\n",
    "error <- data.frame('K'=1:K, 'L'=1:L, 'test'=rep(0,L*K))\n",
    "\n",
    "# THIS MAY TAKE A FEW MINUTES TO COMPLETE (More like 10minutes on my laptop)\n",
    "## for every k values:\n",
    "for (k in 1:K ){\n",
    "    \n",
    "    ### for every dataset sizes:\n",
    "    for (l in 1:L){\n",
    "        \n",
    "        #### calculate iteration index i\n",
    "        i <- (k-1)*L+l\n",
    "        \n",
    "        #### save sample indices that were selected by bootstrap\n",
    "        indx <- boot.indx[l,]\n",
    "        \n",
    "        #### save the value of k and l\n",
    "        error[i,'K'] <- k\n",
    "        error[i,'L'] <- l\n",
    "        #### calculate and record the train and test error rates\n",
    "        #return(knn(train.data[indx,],train.label[indx],test.data))\n",
    "        error[i,'test'] <- rmse(knn(train.data[indx,],train.label[indx],test.data,K=k),test.label)\n",
    "    } \n",
    "}\n"
   ]
  },
  {
   "cell_type": "code",
   "execution_count": 25,
   "metadata": {},
   "outputs": [
    {
     "data": {
      "text/html": [
       "<table>\n",
       "<thead><tr><th scope=col>K</th><th scope=col>L</th><th scope=col>test</th></tr></thead>\n",
       "<tbody>\n",
       "\t<tr><td>1       </td><td> 1      </td><td>217.1287</td></tr>\n",
       "\t<tr><td>1       </td><td> 2      </td><td>152.7032</td></tr>\n",
       "\t<tr><td>1       </td><td> 3      </td><td>286.1548</td></tr>\n",
       "\t<tr><td>1       </td><td> 4      </td><td>192.3379</td></tr>\n",
       "\t<tr><td>1       </td><td> 5      </td><td>146.3349</td></tr>\n",
       "\t<tr><td>1       </td><td> 6      </td><td>179.5733</td></tr>\n",
       "\t<tr><td>1       </td><td> 7      </td><td>167.2557</td></tr>\n",
       "\t<tr><td>1       </td><td> 8      </td><td>143.5429</td></tr>\n",
       "\t<tr><td>1       </td><td> 9      </td><td>151.6425</td></tr>\n",
       "\t<tr><td>1       </td><td>10      </td><td>227.6028</td></tr>\n",
       "\t<tr><td>1       </td><td>11      </td><td>328.7782</td></tr>\n",
       "\t<tr><td>1       </td><td>12      </td><td>160.8855</td></tr>\n",
       "\t<tr><td>1       </td><td>13      </td><td>164.8235</td></tr>\n",
       "\t<tr><td>1       </td><td>14      </td><td>230.8016</td></tr>\n",
       "\t<tr><td>1       </td><td>15      </td><td>159.3387</td></tr>\n",
       "\t<tr><td>1       </td><td>16      </td><td>186.0157</td></tr>\n",
       "\t<tr><td>1       </td><td>17      </td><td>133.6881</td></tr>\n",
       "\t<tr><td>1       </td><td>18      </td><td>157.7439</td></tr>\n",
       "\t<tr><td>1       </td><td>19      </td><td>167.8669</td></tr>\n",
       "\t<tr><td>1       </td><td>20      </td><td>189.4185</td></tr>\n",
       "\t<tr><td>1       </td><td>21      </td><td>128.3315</td></tr>\n",
       "\t<tr><td>1       </td><td>22      </td><td>150.3160</td></tr>\n",
       "\t<tr><td>1       </td><td>23      </td><td>156.5595</td></tr>\n",
       "\t<tr><td>1       </td><td>24      </td><td>157.9421</td></tr>\n",
       "\t<tr><td>1       </td><td>25      </td><td>142.0561</td></tr>\n",
       "\t<tr><td>1       </td><td>26      </td><td>175.8389</td></tr>\n",
       "\t<tr><td>1       </td><td>27      </td><td>159.8532</td></tr>\n",
       "\t<tr><td>1       </td><td>28      </td><td>176.8091</td></tr>\n",
       "\t<tr><td>1       </td><td>29      </td><td>200.5695</td></tr>\n",
       "\t<tr><td>1       </td><td>30      </td><td>185.5733</td></tr>\n",
       "\t<tr><td>...</td><td>...</td><td>...</td></tr>\n",
       "\t<tr><td>20      </td><td> 71     </td><td>751.2881</td></tr>\n",
       "\t<tr><td>20      </td><td> 72     </td><td>788.7463</td></tr>\n",
       "\t<tr><td>20      </td><td> 73     </td><td>803.8173</td></tr>\n",
       "\t<tr><td>20      </td><td> 74     </td><td>863.9469</td></tr>\n",
       "\t<tr><td>20      </td><td> 75     </td><td>757.5544</td></tr>\n",
       "\t<tr><td>20      </td><td> 76     </td><td>815.7913</td></tr>\n",
       "\t<tr><td>20      </td><td> 77     </td><td>782.8235</td></tr>\n",
       "\t<tr><td>20      </td><td> 78     </td><td>902.4673</td></tr>\n",
       "\t<tr><td>20      </td><td> 79     </td><td>768.8439</td></tr>\n",
       "\t<tr><td>20      </td><td> 80     </td><td>750.8236</td></tr>\n",
       "\t<tr><td>20      </td><td> 81     </td><td>794.9992</td></tr>\n",
       "\t<tr><td>20      </td><td> 82     </td><td>890.2614</td></tr>\n",
       "\t<tr><td>20      </td><td> 83     </td><td>868.2941</td></tr>\n",
       "\t<tr><td>20      </td><td> 84     </td><td>837.2260</td></tr>\n",
       "\t<tr><td>20      </td><td> 85     </td><td>799.3649</td></tr>\n",
       "\t<tr><td>20      </td><td> 86     </td><td>885.3528</td></tr>\n",
       "\t<tr><td>20      </td><td> 87     </td><td>828.6123</td></tr>\n",
       "\t<tr><td>20      </td><td> 88     </td><td>788.7444</td></tr>\n",
       "\t<tr><td>20      </td><td> 89     </td><td>901.9623</td></tr>\n",
       "\t<tr><td>20      </td><td> 90     </td><td>752.6599</td></tr>\n",
       "\t<tr><td>20      </td><td> 91     </td><td>779.9523</td></tr>\n",
       "\t<tr><td>20      </td><td> 92     </td><td>760.1679</td></tr>\n",
       "\t<tr><td>20      </td><td> 93     </td><td>762.9365</td></tr>\n",
       "\t<tr><td>20      </td><td> 94     </td><td>755.3849</td></tr>\n",
       "\t<tr><td>20      </td><td> 95     </td><td>884.7205</td></tr>\n",
       "\t<tr><td>20      </td><td> 96     </td><td>849.8684</td></tr>\n",
       "\t<tr><td>20      </td><td> 97     </td><td>717.4026</td></tr>\n",
       "\t<tr><td>20      </td><td> 98     </td><td>746.8344</td></tr>\n",
       "\t<tr><td>20      </td><td> 99     </td><td>773.6823</td></tr>\n",
       "\t<tr><td>20      </td><td>100     </td><td>792.3407</td></tr>\n",
       "</tbody>\n",
       "</table>\n"
      ],
      "text/latex": [
       "\\begin{tabular}{r|lll}\n",
       " K & L & test\\\\\n",
       "\\hline\n",
       "\t 1        &  1       & 217.1287\\\\\n",
       "\t 1        &  2       & 152.7032\\\\\n",
       "\t 1        &  3       & 286.1548\\\\\n",
       "\t 1        &  4       & 192.3379\\\\\n",
       "\t 1        &  5       & 146.3349\\\\\n",
       "\t 1        &  6       & 179.5733\\\\\n",
       "\t 1        &  7       & 167.2557\\\\\n",
       "\t 1        &  8       & 143.5429\\\\\n",
       "\t 1        &  9       & 151.6425\\\\\n",
       "\t 1        & 10       & 227.6028\\\\\n",
       "\t 1        & 11       & 328.7782\\\\\n",
       "\t 1        & 12       & 160.8855\\\\\n",
       "\t 1        & 13       & 164.8235\\\\\n",
       "\t 1        & 14       & 230.8016\\\\\n",
       "\t 1        & 15       & 159.3387\\\\\n",
       "\t 1        & 16       & 186.0157\\\\\n",
       "\t 1        & 17       & 133.6881\\\\\n",
       "\t 1        & 18       & 157.7439\\\\\n",
       "\t 1        & 19       & 167.8669\\\\\n",
       "\t 1        & 20       & 189.4185\\\\\n",
       "\t 1        & 21       & 128.3315\\\\\n",
       "\t 1        & 22       & 150.3160\\\\\n",
       "\t 1        & 23       & 156.5595\\\\\n",
       "\t 1        & 24       & 157.9421\\\\\n",
       "\t 1        & 25       & 142.0561\\\\\n",
       "\t 1        & 26       & 175.8389\\\\\n",
       "\t 1        & 27       & 159.8532\\\\\n",
       "\t 1        & 28       & 176.8091\\\\\n",
       "\t 1        & 29       & 200.5695\\\\\n",
       "\t 1        & 30       & 185.5733\\\\\n",
       "\t ... & ... & ...\\\\\n",
       "\t 20       &  71      & 751.2881\\\\\n",
       "\t 20       &  72      & 788.7463\\\\\n",
       "\t 20       &  73      & 803.8173\\\\\n",
       "\t 20       &  74      & 863.9469\\\\\n",
       "\t 20       &  75      & 757.5544\\\\\n",
       "\t 20       &  76      & 815.7913\\\\\n",
       "\t 20       &  77      & 782.8235\\\\\n",
       "\t 20       &  78      & 902.4673\\\\\n",
       "\t 20       &  79      & 768.8439\\\\\n",
       "\t 20       &  80      & 750.8236\\\\\n",
       "\t 20       &  81      & 794.9992\\\\\n",
       "\t 20       &  82      & 890.2614\\\\\n",
       "\t 20       &  83      & 868.2941\\\\\n",
       "\t 20       &  84      & 837.2260\\\\\n",
       "\t 20       &  85      & 799.3649\\\\\n",
       "\t 20       &  86      & 885.3528\\\\\n",
       "\t 20       &  87      & 828.6123\\\\\n",
       "\t 20       &  88      & 788.7444\\\\\n",
       "\t 20       &  89      & 901.9623\\\\\n",
       "\t 20       &  90      & 752.6599\\\\\n",
       "\t 20       &  91      & 779.9523\\\\\n",
       "\t 20       &  92      & 760.1679\\\\\n",
       "\t 20       &  93      & 762.9365\\\\\n",
       "\t 20       &  94      & 755.3849\\\\\n",
       "\t 20       &  95      & 884.7205\\\\\n",
       "\t 20       &  96      & 849.8684\\\\\n",
       "\t 20       &  97      & 717.4026\\\\\n",
       "\t 20       &  98      & 746.8344\\\\\n",
       "\t 20       &  99      & 773.6823\\\\\n",
       "\t 20       & 100      & 792.3407\\\\\n",
       "\\end{tabular}\n"
      ],
      "text/markdown": [
       "\n",
       "K | L | test | \n",
       "|---|---|---|---|---|---|---|---|---|---|---|---|---|---|---|---|---|---|---|---|---|---|---|---|---|---|---|---|---|---|---|---|---|---|---|---|---|---|---|---|---|---|---|---|---|---|---|---|---|---|---|---|---|---|---|---|---|---|---|---|---|\n",
       "| 1        |  1       | 217.1287 | \n",
       "| 1        |  2       | 152.7032 | \n",
       "| 1        |  3       | 286.1548 | \n",
       "| 1        |  4       | 192.3379 | \n",
       "| 1        |  5       | 146.3349 | \n",
       "| 1        |  6       | 179.5733 | \n",
       "| 1        |  7       | 167.2557 | \n",
       "| 1        |  8       | 143.5429 | \n",
       "| 1        |  9       | 151.6425 | \n",
       "| 1        | 10       | 227.6028 | \n",
       "| 1        | 11       | 328.7782 | \n",
       "| 1        | 12       | 160.8855 | \n",
       "| 1        | 13       | 164.8235 | \n",
       "| 1        | 14       | 230.8016 | \n",
       "| 1        | 15       | 159.3387 | \n",
       "| 1        | 16       | 186.0157 | \n",
       "| 1        | 17       | 133.6881 | \n",
       "| 1        | 18       | 157.7439 | \n",
       "| 1        | 19       | 167.8669 | \n",
       "| 1        | 20       | 189.4185 | \n",
       "| 1        | 21       | 128.3315 | \n",
       "| 1        | 22       | 150.3160 | \n",
       "| 1        | 23       | 156.5595 | \n",
       "| 1        | 24       | 157.9421 | \n",
       "| 1        | 25       | 142.0561 | \n",
       "| 1        | 26       | 175.8389 | \n",
       "| 1        | 27       | 159.8532 | \n",
       "| 1        | 28       | 176.8091 | \n",
       "| 1        | 29       | 200.5695 | \n",
       "| 1        | 30       | 185.5733 | \n",
       "| ... | ... | ... | \n",
       "| 20       |  71      | 751.2881 | \n",
       "| 20       |  72      | 788.7463 | \n",
       "| 20       |  73      | 803.8173 | \n",
       "| 20       |  74      | 863.9469 | \n",
       "| 20       |  75      | 757.5544 | \n",
       "| 20       |  76      | 815.7913 | \n",
       "| 20       |  77      | 782.8235 | \n",
       "| 20       |  78      | 902.4673 | \n",
       "| 20       |  79      | 768.8439 | \n",
       "| 20       |  80      | 750.8236 | \n",
       "| 20       |  81      | 794.9992 | \n",
       "| 20       |  82      | 890.2614 | \n",
       "| 20       |  83      | 868.2941 | \n",
       "| 20       |  84      | 837.2260 | \n",
       "| 20       |  85      | 799.3649 | \n",
       "| 20       |  86      | 885.3528 | \n",
       "| 20       |  87      | 828.6123 | \n",
       "| 20       |  88      | 788.7444 | \n",
       "| 20       |  89      | 901.9623 | \n",
       "| 20       |  90      | 752.6599 | \n",
       "| 20       |  91      | 779.9523 | \n",
       "| 20       |  92      | 760.1679 | \n",
       "| 20       |  93      | 762.9365 | \n",
       "| 20       |  94      | 755.3849 | \n",
       "| 20       |  95      | 884.7205 | \n",
       "| 20       |  96      | 849.8684 | \n",
       "| 20       |  97      | 717.4026 | \n",
       "| 20       |  98      | 746.8344 | \n",
       "| 20       |  99      | 773.6823 | \n",
       "| 20       | 100      | 792.3407 | \n",
       "\n",
       "\n"
      ],
      "text/plain": [
       "     K   L   test    \n",
       "1    1    1  217.1287\n",
       "2    1    2  152.7032\n",
       "3    1    3  286.1548\n",
       "4    1    4  192.3379\n",
       "5    1    5  146.3349\n",
       "6    1    6  179.5733\n",
       "7    1    7  167.2557\n",
       "8    1    8  143.5429\n",
       "9    1    9  151.6425\n",
       "10   1   10  227.6028\n",
       "11   1   11  328.7782\n",
       "12   1   12  160.8855\n",
       "13   1   13  164.8235\n",
       "14   1   14  230.8016\n",
       "15   1   15  159.3387\n",
       "16   1   16  186.0157\n",
       "17   1   17  133.6881\n",
       "18   1   18  157.7439\n",
       "19   1   19  167.8669\n",
       "20   1   20  189.4185\n",
       "21   1   21  128.3315\n",
       "22   1   22  150.3160\n",
       "23   1   23  156.5595\n",
       "24   1   24  157.9421\n",
       "25   1   25  142.0561\n",
       "26   1   26  175.8389\n",
       "27   1   27  159.8532\n",
       "28   1   28  176.8091\n",
       "29   1   29  200.5695\n",
       "30   1   30  185.5733\n",
       "...  ... ... ...     \n",
       "1971 20   71 751.2881\n",
       "1972 20   72 788.7463\n",
       "1973 20   73 803.8173\n",
       "1974 20   74 863.9469\n",
       "1975 20   75 757.5544\n",
       "1976 20   76 815.7913\n",
       "1977 20   77 782.8235\n",
       "1978 20   78 902.4673\n",
       "1979 20   79 768.8439\n",
       "1980 20   80 750.8236\n",
       "1981 20   81 794.9992\n",
       "1982 20   82 890.2614\n",
       "1983 20   83 868.2941\n",
       "1984 20   84 837.2260\n",
       "1985 20   85 799.3649\n",
       "1986 20   86 885.3528\n",
       "1987 20   87 828.6123\n",
       "1988 20   88 788.7444\n",
       "1989 20   89 901.9623\n",
       "1990 20   90 752.6599\n",
       "1991 20   91 779.9523\n",
       "1992 20   92 760.1679\n",
       "1993 20   93 762.9365\n",
       "1994 20   94 755.3849\n",
       "1995 20   95 884.7205\n",
       "1996 20   96 849.8684\n",
       "1997 20   97 717.4026\n",
       "1998 20   98 746.8344\n",
       "1999 20   99 773.6823\n",
       "2000 20  100 792.3407"
      ]
     },
     "metadata": {},
     "output_type": "display_data"
    }
   ],
   "source": [
    "error"
   ]
  },
  {
   "cell_type": "markdown",
   "metadata": {},
   "source": [
    "### Q3-2 Plot bootstrapping KNN regression for different number of nearest neighbours"
   ]
  },
  {
   "cell_type": "code",
   "execution_count": 28,
   "metadata": {},
   "outputs": [
    {
     "data": {},
     "metadata": {},
     "output_type": "display_data"
    },
    {
     "data": {
      "image/png": "[encoded data removed]",
      "text/plain": [
       "plot without title"
      ]
     },
     "metadata": {},
     "output_type": "display_data",
     "source": "R display func"
    }
   ],
   "source": [
    "# Apply bootstrapping for KNN regression with 100 bootstrapped datasets, \n",
    "# each having 25 samples, and maximum number of neighbours 20\n",
    "error.m <- melt(error, id=c('K', 'L')) # reshape for visualization\n",
    "names(error.m) <- c('K', 'L', 'type', 'error')\n",
    "\n",
    "ggplot(data=error.m[error.m$type=='test',], aes(factor(K), error,fill=type)) + \n",
    "    geom_boxplot(outlier.shape = NA) + \n",
    "    scale_color_discrete(guide = guide_legend(title = NULL)) +\n",
    "    theme_minimal() +\n",
    "    ggtitle('RMSE by K (100 Bootstrap Samples for each K=1 to 20 with Size=25)')\n",
    "\n"
   ]
  },
  {
   "cell_type": "markdown",
   "metadata": {},
   "source": [
    "### Q3-3 Results interpretation"
   ]
  },
  {
   "cell_type": "markdown",
   "metadata": {},
   "source": [
    "By the boxplot it can be seen that the increase in K value causes an increase in the test error of the bootstrapped datasets. The variability tends to increase as more K values are used since the decision tree is less flixible and produces a decision tree that can not adjust as easily to the large test set. It can be seen here that when a small training set is used in comparision to the test set it is easier to underfit."
   ]
  },
  {
   "cell_type": "markdown",
   "metadata": {},
   "source": [
    "### Q3-4 Plot bootstrapping KNN regression for different number of bootstrapped datasets"
   ]
  },
  {
   "cell_type": "markdown",
   "metadata": {},
   "source": [
    "Q3-4) Load `Task1B_train.csv` and `Task1B_test.csv` sets. Apply your bootstrapping for KNN regression with `K=5` (the neighbourhood size), `size = 25` (the size of each subset), and change `times = 10, 20, 30,.., 200` (the number of subsets). Now create a boxplot where the x-axis is `times`, and the y-axis is the average error (and the uncertainty around it) corresponding to each value of `times`.  \n"
   ]
  },
  {
   "cell_type": "code",
   "execution_count": 54,
   "metadata": {},
   "outputs": [],
   "source": [
    "K <- 5                # k nearest neighbours\n",
    "N <- 25                # Size of bootstrapped samples\n",
    "max.sample.size = 200  # Maximum size of sampling\n",
    "Z = floor(max.sample.size/10)\n",
    " \n",
    "rmse_sample.df <- data.frame('Times'=(1:Z)*10, 'N'=1:N,'test'= rep(0,N*Z))\n",
    "\n",
    "\n",
    "for (z in 1:Z){\n",
    "    boot.indx <- boot(dim(train.data)[1], z*10,N)\n",
    "    \n",
    "        for (n in 1:N){\n",
    "            indx <- boot.indx[n,]\n",
    "            rmse_sample.df[(z-1)*N+n,1] <- z*10\n",
    "            rmse_sample.df[(z-1)*N+n,2] <- n\n",
    "            rmse_sample.df[(z-1)*N+n,3] <- rmse(knn(train.data[indx,],train.label[indx],test.data,K=K),test.label)\n",
    "        }\n",
    "     \n",
    "        \n",
    "} "
   ]
  },
  {
   "cell_type": "code",
   "execution_count": 55,
   "metadata": {},
   "outputs": [
    {
     "data": {
      "text/html": [
       "<table>\n",
       "<thead><tr><th scope=col>Times</th><th scope=col>N</th><th scope=col>type</th><th scope=col>RMSE</th></tr></thead>\n",
       "<tbody>\n",
       "\t<tr><td>10       </td><td> 1       </td><td>test     </td><td> 408.5911</td></tr>\n",
       "\t<tr><td>10       </td><td> 2       </td><td>test     </td><td> 698.6735</td></tr>\n",
       "\t<tr><td>10       </td><td> 3       </td><td>test     </td><td> 630.5314</td></tr>\n",
       "\t<tr><td>10       </td><td> 4       </td><td>test     </td><td> 863.7857</td></tr>\n",
       "\t<tr><td>10       </td><td> 5       </td><td>test     </td><td> 566.8169</td></tr>\n",
       "\t<tr><td>10       </td><td> 6       </td><td>test     </td><td> 795.4325</td></tr>\n",
       "\t<tr><td>10       </td><td> 7       </td><td>test     </td><td> 644.3018</td></tr>\n",
       "\t<tr><td>10       </td><td> 8       </td><td>test     </td><td> 936.7149</td></tr>\n",
       "\t<tr><td>10       </td><td> 9       </td><td>test     </td><td> 600.5550</td></tr>\n",
       "\t<tr><td>10       </td><td>10       </td><td>test     </td><td> 657.3540</td></tr>\n",
       "\t<tr><td>10       </td><td>11       </td><td>test     </td><td> 504.5542</td></tr>\n",
       "\t<tr><td>10       </td><td>12       </td><td>test     </td><td> 710.0388</td></tr>\n",
       "\t<tr><td>10       </td><td>13       </td><td>test     </td><td> 606.0164</td></tr>\n",
       "\t<tr><td>10       </td><td>14       </td><td>test     </td><td> 699.9324</td></tr>\n",
       "\t<tr><td>10       </td><td>15       </td><td>test     </td><td> 714.6080</td></tr>\n",
       "\t<tr><td>10       </td><td>16       </td><td>test     </td><td> 497.6235</td></tr>\n",
       "\t<tr><td>10       </td><td>17       </td><td>test     </td><td>1010.9876</td></tr>\n",
       "\t<tr><td>10       </td><td>18       </td><td>test     </td><td> 687.3344</td></tr>\n",
       "\t<tr><td>10       </td><td>19       </td><td>test     </td><td> 758.4173</td></tr>\n",
       "\t<tr><td>10       </td><td>20       </td><td>test     </td><td> 626.1326</td></tr>\n",
       "\t<tr><td>10       </td><td>21       </td><td>test     </td><td> 500.6529</td></tr>\n",
       "\t<tr><td>10       </td><td>22       </td><td>test     </td><td> 426.6763</td></tr>\n",
       "\t<tr><td>10       </td><td>23       </td><td>test     </td><td> 578.6044</td></tr>\n",
       "\t<tr><td>10       </td><td>24       </td><td>test     </td><td> 495.2786</td></tr>\n",
       "\t<tr><td>10       </td><td>25       </td><td>test     </td><td> 440.8865</td></tr>\n",
       "\t<tr><td>20       </td><td> 1       </td><td>test     </td><td> 195.4612</td></tr>\n",
       "\t<tr><td>20       </td><td> 2       </td><td>test     </td><td> 640.8140</td></tr>\n",
       "\t<tr><td>20       </td><td> 3       </td><td>test     </td><td> 294.0851</td></tr>\n",
       "\t<tr><td>20       </td><td> 4       </td><td>test     </td><td> 498.2426</td></tr>\n",
       "\t<tr><td>20       </td><td> 5       </td><td>test     </td><td> 248.8387</td></tr>\n",
       "\t<tr><td>...</td><td>...</td><td>...</td><td>...</td></tr>\n",
       "\t<tr><td>190     </td><td>21      </td><td>test    </td><td>84.50485</td></tr>\n",
       "\t<tr><td>190     </td><td>22      </td><td>test    </td><td>94.68721</td></tr>\n",
       "\t<tr><td>190     </td><td>23      </td><td>test    </td><td>84.03124</td></tr>\n",
       "\t<tr><td>190     </td><td>24      </td><td>test    </td><td>86.79885</td></tr>\n",
       "\t<tr><td>190     </td><td>25      </td><td>test    </td><td>84.64309</td></tr>\n",
       "\t<tr><td>200     </td><td> 1      </td><td>test    </td><td>85.15573</td></tr>\n",
       "\t<tr><td>200     </td><td> 2      </td><td>test    </td><td>84.86773</td></tr>\n",
       "\t<tr><td>200     </td><td> 3      </td><td>test    </td><td>84.74290</td></tr>\n",
       "\t<tr><td>200     </td><td> 4      </td><td>test    </td><td>91.52500</td></tr>\n",
       "\t<tr><td>200     </td><td> 5      </td><td>test    </td><td>83.96136</td></tr>\n",
       "\t<tr><td>200     </td><td> 6      </td><td>test    </td><td>84.47988</td></tr>\n",
       "\t<tr><td>200     </td><td> 7      </td><td>test    </td><td>80.47214</td></tr>\n",
       "\t<tr><td>200     </td><td> 8      </td><td>test    </td><td>81.71695</td></tr>\n",
       "\t<tr><td>200     </td><td> 9      </td><td>test    </td><td>88.21177</td></tr>\n",
       "\t<tr><td>200     </td><td>10      </td><td>test    </td><td>82.11630</td></tr>\n",
       "\t<tr><td>200     </td><td>11      </td><td>test    </td><td>88.39078</td></tr>\n",
       "\t<tr><td>200     </td><td>12      </td><td>test    </td><td>87.18782</td></tr>\n",
       "\t<tr><td>200     </td><td>13      </td><td>test    </td><td>85.43364</td></tr>\n",
       "\t<tr><td>200     </td><td>14      </td><td>test    </td><td>80.19373</td></tr>\n",
       "\t<tr><td>200     </td><td>15      </td><td>test    </td><td>84.20525</td></tr>\n",
       "\t<tr><td>200     </td><td>16      </td><td>test    </td><td>82.68628</td></tr>\n",
       "\t<tr><td>200     </td><td>17      </td><td>test    </td><td>88.49955</td></tr>\n",
       "\t<tr><td>200     </td><td>18      </td><td>test    </td><td>84.57654</td></tr>\n",
       "\t<tr><td>200     </td><td>19      </td><td>test    </td><td>82.63019</td></tr>\n",
       "\t<tr><td>200     </td><td>20      </td><td>test    </td><td>88.61664</td></tr>\n",
       "\t<tr><td>200     </td><td>21      </td><td>test    </td><td>83.53504</td></tr>\n",
       "\t<tr><td>200     </td><td>22      </td><td>test    </td><td>91.25198</td></tr>\n",
       "\t<tr><td>200     </td><td>23      </td><td>test    </td><td>87.89312</td></tr>\n",
       "\t<tr><td>200     </td><td>24      </td><td>test    </td><td>87.35673</td></tr>\n",
       "\t<tr><td>200     </td><td>25      </td><td>test    </td><td>82.95349</td></tr>\n",
       "</tbody>\n",
       "</table>\n"
      ],
      "text/latex": [
       "\\begin{tabular}{r|llll}\n",
       " Times & N & type & RMSE\\\\\n",
       "\\hline\n",
       "\t 10        &  1        & test      &  408.5911\\\\\n",
       "\t 10        &  2        & test      &  698.6735\\\\\n",
       "\t 10        &  3        & test      &  630.5314\\\\\n",
       "\t 10        &  4        & test      &  863.7857\\\\\n",
       "\t 10        &  5        & test      &  566.8169\\\\\n",
       "\t 10        &  6        & test      &  795.4325\\\\\n",
       "\t 10        &  7        & test      &  644.3018\\\\\n",
       "\t 10        &  8        & test      &  936.7149\\\\\n",
       "\t 10        &  9        & test      &  600.5550\\\\\n",
       "\t 10        & 10        & test      &  657.3540\\\\\n",
       "\t 10        & 11        & test      &  504.5542\\\\\n",
       "\t 10        & 12        & test      &  710.0388\\\\\n",
       "\t 10        & 13        & test      &  606.0164\\\\\n",
       "\t 10        & 14        & test      &  699.9324\\\\\n",
       "\t 10        & 15        & test      &  714.6080\\\\\n",
       "\t 10        & 16        & test      &  497.6235\\\\\n",
       "\t 10        & 17        & test      & 1010.9876\\\\\n",
       "\t 10        & 18        & test      &  687.3344\\\\\n",
       "\t 10        & 19        & test      &  758.4173\\\\\n",
       "\t 10        & 20        & test      &  626.1326\\\\\n",
       "\t 10        & 21        & test      &  500.6529\\\\\n",
       "\t 10        & 22        & test      &  426.6763\\\\\n",
       "\t 10        & 23        & test      &  578.6044\\\\\n",
       "\t 10        & 24        & test      &  495.2786\\\\\n",
       "\t 10        & 25        & test      &  440.8865\\\\\n",
       "\t 20        &  1        & test      &  195.4612\\\\\n",
       "\t 20        &  2        & test      &  640.8140\\\\\n",
       "\t 20        &  3        & test      &  294.0851\\\\\n",
       "\t 20        &  4        & test      &  498.2426\\\\\n",
       "\t 20        &  5        & test      &  248.8387\\\\\n",
       "\t ... & ... & ... & ...\\\\\n",
       "\t 190      & 21       & test     & 84.50485\\\\\n",
       "\t 190      & 22       & test     & 94.68721\\\\\n",
       "\t 190      & 23       & test     & 84.03124\\\\\n",
       "\t 190      & 24       & test     & 86.79885\\\\\n",
       "\t 190      & 25       & test     & 84.64309\\\\\n",
       "\t 200      &  1       & test     & 85.15573\\\\\n",
       "\t 200      &  2       & test     & 84.86773\\\\\n",
       "\t 200      &  3       & test     & 84.74290\\\\\n",
       "\t 200      &  4       & test     & 91.52500\\\\\n",
       "\t 200      &  5       & test     & 83.96136\\\\\n",
       "\t 200      &  6       & test     & 84.47988\\\\\n",
       "\t 200      &  7       & test     & 80.47214\\\\\n",
       "\t 200      &  8       & test     & 81.71695\\\\\n",
       "\t 200      &  9       & test     & 88.21177\\\\\n",
       "\t 200      & 10       & test     & 82.11630\\\\\n",
       "\t 200      & 11       & test     & 88.39078\\\\\n",
       "\t 200      & 12       & test     & 87.18782\\\\\n",
       "\t 200      & 13       & test     & 85.43364\\\\\n",
       "\t 200      & 14       & test     & 80.19373\\\\\n",
       "\t 200      & 15       & test     & 84.20525\\\\\n",
       "\t 200      & 16       & test     & 82.68628\\\\\n",
       "\t 200      & 17       & test     & 88.49955\\\\\n",
       "\t 200      & 18       & test     & 84.57654\\\\\n",
       "\t 200      & 19       & test     & 82.63019\\\\\n",
       "\t 200      & 20       & test     & 88.61664\\\\\n",
       "\t 200      & 21       & test     & 83.53504\\\\\n",
       "\t 200      & 22       & test     & 91.25198\\\\\n",
       "\t 200      & 23       & test     & 87.89312\\\\\n",
       "\t 200      & 24       & test     & 87.35673\\\\\n",
       "\t 200      & 25       & test     & 82.95349\\\\\n",
       "\\end{tabular}\n"
      ],
      "text/markdown": [
       "\n",
       "Times | N | type | RMSE | \n",
       "|---|---|---|---|---|---|---|---|---|---|---|---|---|---|---|---|---|---|---|---|---|---|---|---|---|---|---|---|---|---|---|---|---|---|---|---|---|---|---|---|---|---|---|---|---|---|---|---|---|---|---|---|---|---|---|---|---|---|---|---|---|\n",
       "| 10        |  1        | test      |  408.5911 | \n",
       "| 10        |  2        | test      |  698.6735 | \n",
       "| 10        |  3        | test      |  630.5314 | \n",
       "| 10        |  4        | test      |  863.7857 | \n",
       "| 10        |  5        | test      |  566.8169 | \n",
       "| 10        |  6        | test      |  795.4325 | \n",
       "| 10        |  7        | test      |  644.3018 | \n",
       "| 10        |  8        | test      |  936.7149 | \n",
       "| 10        |  9        | test      |  600.5550 | \n",
       "| 10        | 10        | test      |  657.3540 | \n",
       "| 10        | 11        | test      |  504.5542 | \n",
       "| 10        | 12        | test      |  710.0388 | \n",
       "| 10        | 13        | test      |  606.0164 | \n",
       "| 10        | 14        | test      |  699.9324 | \n",
       "| 10        | 15        | test      |  714.6080 | \n",
       "| 10        | 16        | test      |  497.6235 | \n",
       "| 10        | 17        | test      | 1010.9876 | \n",
       "| 10        | 18        | test      |  687.3344 | \n",
       "| 10        | 19        | test      |  758.4173 | \n",
       "| 10        | 20        | test      |  626.1326 | \n",
       "| 10        | 21        | test      |  500.6529 | \n",
       "| 10        | 22        | test      |  426.6763 | \n",
       "| 10        | 23        | test      |  578.6044 | \n",
       "| 10        | 24        | test      |  495.2786 | \n",
       "| 10        | 25        | test      |  440.8865 | \n",
       "| 20        |  1        | test      |  195.4612 | \n",
       "| 20        |  2        | test      |  640.8140 | \n",
       "| 20        |  3        | test      |  294.0851 | \n",
       "| 20        |  4        | test      |  498.2426 | \n",
       "| 20        |  5        | test      |  248.8387 | \n",
       "| ... | ... | ... | ... | \n",
       "| 190      | 21       | test     | 84.50485 | \n",
       "| 190      | 22       | test     | 94.68721 | \n",
       "| 190      | 23       | test     | 84.03124 | \n",
       "| 190      | 24       | test     | 86.79885 | \n",
       "| 190      | 25       | test     | 84.64309 | \n",
       "| 200      |  1       | test     | 85.15573 | \n",
       "| 200      |  2       | test     | 84.86773 | \n",
       "| 200      |  3       | test     | 84.74290 | \n",
       "| 200      |  4       | test     | 91.52500 | \n",
       "| 200      |  5       | test     | 83.96136 | \n",
       "| 200      |  6       | test     | 84.47988 | \n",
       "| 200      |  7       | test     | 80.47214 | \n",
       "| 200      |  8       | test     | 81.71695 | \n",
       "| 200      |  9       | test     | 88.21177 | \n",
       "| 200      | 10       | test     | 82.11630 | \n",
       "| 200      | 11       | test     | 88.39078 | \n",
       "| 200      | 12       | test     | 87.18782 | \n",
       "| 200      | 13       | test     | 85.43364 | \n",
       "| 200      | 14       | test     | 80.19373 | \n",
       "| 200      | 15       | test     | 84.20525 | \n",
       "| 200      | 16       | test     | 82.68628 | \n",
       "| 200      | 17       | test     | 88.49955 | \n",
       "| 200      | 18       | test     | 84.57654 | \n",
       "| 200      | 19       | test     | 82.63019 | \n",
       "| 200      | 20       | test     | 88.61664 | \n",
       "| 200      | 21       | test     | 83.53504 | \n",
       "| 200      | 22       | test     | 91.25198 | \n",
       "| 200      | 23       | test     | 87.89312 | \n",
       "| 200      | 24       | test     | 87.35673 | \n",
       "| 200      | 25       | test     | 82.95349 | \n",
       "\n",
       "\n"
      ],
      "text/plain": [
       "    Times N   type RMSE     \n",
       "1   10     1  test  408.5911\n",
       "2   10     2  test  698.6735\n",
       "3   10     3  test  630.5314\n",
       "4   10     4  test  863.7857\n",
       "5   10     5  test  566.8169\n",
       "6   10     6  test  795.4325\n",
       "7   10     7  test  644.3018\n",
       "8   10     8  test  936.7149\n",
       "9   10     9  test  600.5550\n",
       "10  10    10  test  657.3540\n",
       "11  10    11  test  504.5542\n",
       "12  10    12  test  710.0388\n",
       "13  10    13  test  606.0164\n",
       "14  10    14  test  699.9324\n",
       "15  10    15  test  714.6080\n",
       "16  10    16  test  497.6235\n",
       "17  10    17  test 1010.9876\n",
       "18  10    18  test  687.3344\n",
       "19  10    19  test  758.4173\n",
       "20  10    20  test  626.1326\n",
       "21  10    21  test  500.6529\n",
       "22  10    22  test  426.6763\n",
       "23  10    23  test  578.6044\n",
       "24  10    24  test  495.2786\n",
       "25  10    25  test  440.8865\n",
       "26  20     1  test  195.4612\n",
       "27  20     2  test  640.8140\n",
       "28  20     3  test  294.0851\n",
       "29  20     4  test  498.2426\n",
       "30  20     5  test  248.8387\n",
       "... ...   ... ...  ...      \n",
       "471 190   21  test 84.50485 \n",
       "472 190   22  test 94.68721 \n",
       "473 190   23  test 84.03124 \n",
       "474 190   24  test 86.79885 \n",
       "475 190   25  test 84.64309 \n",
       "476 200    1  test 85.15573 \n",
       "477 200    2  test 84.86773 \n",
       "478 200    3  test 84.74290 \n",
       "479 200    4  test 91.52500 \n",
       "480 200    5  test 83.96136 \n",
       "481 200    6  test 84.47988 \n",
       "482 200    7  test 80.47214 \n",
       "483 200    8  test 81.71695 \n",
       "484 200    9  test 88.21177 \n",
       "485 200   10  test 82.11630 \n",
       "486 200   11  test 88.39078 \n",
       "487 200   12  test 87.18782 \n",
       "488 200   13  test 85.43364 \n",
       "489 200   14  test 80.19373 \n",
       "490 200   15  test 84.20525 \n",
       "491 200   16  test 82.68628 \n",
       "492 200   17  test 88.49955 \n",
       "493 200   18  test 84.57654 \n",
       "494 200   19  test 82.63019 \n",
       "495 200   20  test 88.61664 \n",
       "496 200   21  test 83.53504 \n",
       "497 200   22  test 91.25198 \n",
       "498 200   23  test 87.89312 \n",
       "499 200   24  test 87.35673 \n",
       "500 200   25  test 82.95349 "
      ]
     },
     "metadata": {},
     "output_type": "display_data"
    }
   ],
   "source": [
    "rmse_sample.m <- melt(rmse_sample.df, id=c('Times', 'N')) # reshape for visualization\n",
    "names(rmse_sample.m) <- c('Times', 'N', 'type', 'RMSE')\n",
    "\n",
    "rmse_sample.m[rmse_sample.m$type=='test',]"
   ]
  },
  {
   "cell_type": "code",
   "execution_count": 56,
   "metadata": {},
   "outputs": [
    {
     "data": {},
     "metadata": {},
     "output_type": "display_data"
    },
    {
     "data": {
      "image/png": "[encoded data removed]",
      "text/plain": [
       "plot without title"
      ]
     },
     "metadata": {},
     "output_type": "display_data",
     "source": "R display func"
    }
   ],
   "source": [
    "ggplot(data=rmse_sample.m[rmse_sample.m$type=='test',], aes(factor(Times), RMSE,fill=type)) + \n",
    "    geom_boxplot(outlier.shape = NA) + \n",
    "    scale_color_discrete(guide = guide_legend(title = NULL)) +\n",
    "    theme_minimal() +\n",
    "    ggtitle('RMSE by Times (Times is the Number of Bootstrap Samples\\nof Size=25 with K = 10)')"
   ]
  },
  {
   "cell_type": "markdown",
   "metadata": {},
   "source": [
    "### Q3-3 Results interpretation"
   ]
  },
  {
   "cell_type": "markdown",
   "metadata": {},
   "source": [
    "We see here that as the number of Times a boostrapped sample is taken from the dataset, the models average RMSE and variability in RMSE reduces significantly. As theh number of times a bootstrap sample increases, there is increasing confidence of the error that can be expected from a model developed from the training dataset for this size of neightbourhood."
   ]
  },
  {
   "cell_type": "markdown",
   "metadata": {},
   "source": [
    "### Part C. Probabilistic Machine Learning\n",
    "In this part, you show your knowledge about the foundation of the probabilistic machine learning (i.e. probabilistic inference and modeling) by solving one simple but basic statistical inference problems. Solve the following problem based on the probability concepts you have learned in Module 1 with the same math conventions. Please show your work in your report. Also, there are two conceptual questions.\n",
    "\n",
    "#### Question 4 [Bayes Rule] \n",
    "Recall the simple example from Appendix A of Module 1. Suppose we have one red and one blue box. In the red box we have 2 apples and 6 oranges, whilst in the blue box we have 3 apples and 1 orange. Now suppose we randomly selected one of the boxes and picked a fruit. If the picked fruit is an apple, what is the probability that it was picked from the blue box?\n",
    "\n",
    "Note that the chance of picking the red box is 40% and the selection chance for any of the pieces from a box is equal for all the pieces in that box."
   ]
  },
  {
   "cell_type": "markdown",
   "metadata": {},
   "source": [
    "## Question 4 [Bayes Rule] "
   ]
  },
  {
   "cell_type": "code",
   "execution_count": 57,
   "metadata": {},
   "outputs": [
    {
     "data": {
      "text/html": [
       "0.818181818181818"
      ],
      "text/latex": [
       "0.818181818181818"
      ],
      "text/markdown": [
       "0.818181818181818"
      ],
      "text/plain": [
       "[1] 0.8181818"
      ]
     },
     "metadata": {},
     "output_type": "display_data"
    }
   ],
   "source": [
    "p_red = 0.40 #Given probability of selecting red box\n",
    "p_blue = 1- p_red #Complementary events add to a probability of 1\n",
    "\n",
    "# Number of Apples and Oranges\n",
    "n_red_apples = 2\n",
    "n_red_oranges = 6\n",
    "n_blue_apples = 3\n",
    "n_blue_oranges = 1\n",
    "\n",
    "# Number in each box\n",
    "n_red = n_red_apples + n_red_oranges\n",
    "n_blue = n_blue_apples + n_blue_oranges\n",
    "\n",
    "# Probability of Intersections\n",
    "p_apple_given_blue = n_blue_apples/n_blue #P(A|B) = n(BA)/n(B) Conditional Probability Rules\n",
    "p_apple_given_red = n_red_apples/n_red #P(A|B) = n(BA)/n(B)\n",
    "\n",
    "#Probability of Apple being drawn\n",
    "p_apple = p_apple_given_blue*p_blue + p_apple_given_red * p_red #Law of Total Probability\n",
    "\n",
    "#Probability of Blue given Apple\n",
    "p_blue_given_apple = p_apple_given_blue * p_blue/p_apple #Bayes Rule P(B|A) = P(A|B)*P(B)/P(A)\n",
    "\n",
    "p_blue_given_apple"
   ]
  },
  {
   "cell_type": "markdown",
   "metadata": {},
   "source": [
    "In the above solution it can be seen that the probability that the blue box was used to select a apple was approximately 81.8% 2sf. "
   ]
  }
 ],
 "metadata": {
  "anaconda-cloud": {},
  "kernelspec": {
   "display_name": "R",
   "language": "R",
   "name": "ir"
  },
  "language_info": {
   "codemirror_mode": "r",
   "file_extension": ".r",
   "mimetype": "text/x-r-source",
   "name": "R",
   "pygments_lexer": "r",
   "version": "3.3.2"
  }
 },
 "nbformat": 4,
 "nbformat_minor": 2
}
